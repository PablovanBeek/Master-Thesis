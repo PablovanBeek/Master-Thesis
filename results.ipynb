{
 "cells": [
  {
   "cell_type": "markdown",
   "metadata": {},
   "source": [
    "# Imports"
   ]
  },
  {
   "cell_type": "code",
   "execution_count": null,
   "metadata": {},
   "outputs": [],
   "source": [
    "import pandas as pd\n",
    "from sklearn.ensemble import RandomForestClassifier\n",
    "from sklearn.metrics import precision_recall_curve\n",
    "import plotly.graph_objects as go\n",
    "import numpy as np"
   ]
  },
  {
   "cell_type": "markdown",
   "metadata": {},
   "source": [
    "# Load the data files"
   ]
  },
  {
   "cell_type": "code",
   "execution_count": null,
   "metadata": {},
   "outputs": [],
   "source": [
    "train = pd.read_csv(\"train.csv\")\n",
    "test = pd.read_csv(\"test.csv\")\n",
    "\n",
    "results = {}"
   ]
  },
  {
   "cell_type": "markdown",
   "metadata": {},
   "source": [
    "# Baseline - Pairwise features & node features"
   ]
  },
  {
   "cell_type": "markdown",
   "metadata": {},
   "source": [
    "## Create the train test split"
   ]
  },
  {
   "cell_type": "code",
   "execution_count": null,
   "metadata": {},
   "outputs": [],
   "source": [
    "X_train, y_train = train.drop([\"link\", \"timestamp\", \"source\", \"destination\", \"graph_key\", 'source_role_0', 'source_role_1','source_role_2', 'source_role_3', 'source_role_4', 'source_role_5','source_role_6', 'destination_role_0', 'destination_role_1', 'destination_role_2', 'destination_role_3','destination_role_4', 'destination_role_5', 'destination_role_6'], axis=1, inplace=False), train[\"link\"]\n",
    "X_test,  y_test = test.drop([\"link\", \"timestamp\", \"source\", \"destination\", \"graph_key\", 'source_role_0', 'source_role_1','source_role_2', 'source_role_3', 'source_role_4', 'source_role_5','source_role_6', 'destination_role_0', 'destination_role_1', 'destination_role_2', 'destination_role_3','destination_role_4', 'destination_role_5', 'destination_role_6'], axis=1, inplace=False), test[\"link\"]"
   ]
  },
  {
   "cell_type": "code",
   "execution_count": null,
   "metadata": {},
   "outputs": [],
   "source": [
    "clf = RandomForestClassifier()\n",
    "clf.fit(X_train, y_train)\n",
    "\n",
    "# Predictions\n",
    "y_proba = clf.predict_proba(X_test)[:, 1]\n",
    "precisions, recall, threshold = precision_recall_curve(y_test, y_proba)\n",
    "\n",
    "\n",
    "results[\"PF & NF\"] = {\n",
    "    'threshold': threshold,\n",
    "    'recall': recall[:-1]\n",
    "}"
   ]
  },
  {
   "cell_type": "markdown",
   "metadata": {},
   "source": [
    "# Pairwise & node features & roles"
   ]
  },
  {
   "cell_type": "markdown",
   "metadata": {},
   "source": [
    "## Create the train test split"
   ]
  },
  {
   "cell_type": "code",
   "execution_count": null,
   "metadata": {},
   "outputs": [],
   "source": [
    "X_train, y_train = train.drop([\"link\", \"timestamp\", \"source\", \"destination\", \"graph_key\"], axis=1, inplace=False), train[\"link\"]\n",
    "X_test,  y_test = test.drop([\"link\", \"timestamp\", \"source\", \"destination\", \"graph_key\"], axis=1, inplace=False), test[\"link\"]"
   ]
  },
  {
   "cell_type": "code",
   "execution_count": null,
   "metadata": {},
   "outputs": [],
   "source": [
    "clf = RandomForestClassifier()\n",
    "clf.fit(X_train, y_train)\n",
    "\n",
    "# Predictions\n",
    "y_proba = clf.predict_proba(X_test)[:, 1]\n",
    "precisions, recall, threshold = precision_recall_curve(y_test, y_proba)\n",
    "\n",
    "results[\"PF & NF & R\"] = {\n",
    "    'threshold': threshold,\n",
    "    'recall': recall[:-1]\n",
    "}\n"
   ]
  },
  {
   "cell_type": "markdown",
   "metadata": {},
   "source": [
    "# Roles"
   ]
  },
  {
   "cell_type": "markdown",
   "metadata": {},
   "source": [
    "## Create the train test split"
   ]
  },
  {
   "cell_type": "code",
   "execution_count": null,
   "metadata": {},
   "outputs": [],
   "source": [
    "# Drop all columns except for the roles\n",
    "X_train, y_train = train.drop(train.columns.difference(['source_role_0', 'source_role_1','source_role_2', 'source_role_3', 'source_role_4', 'source_role_5','source_role_6', 'destination_role_0', 'destination_role_1', 'destination_role_2', 'destination_role_3','destination_role_4', 'destination_role_5', 'destination_role_6']), axis=1, inplace=False), train[\"link\"]\n",
    "X_test,  y_test = test.drop(train.columns.difference(['source_role_0', 'source_role_1','source_role_2', 'source_role_3', 'source_role_4', 'source_role_5','source_role_6', 'destination_role_0', 'destination_role_1', 'destination_role_2', 'destination_role_3','destination_role_4', 'destination_role_5', 'destination_role_6']), axis=1, inplace=False), test[\"link\"]"
   ]
  },
  {
   "cell_type": "code",
   "execution_count": null,
   "metadata": {},
   "outputs": [],
   "source": [
    "clf = RandomForestClassifier()\n",
    "clf.fit(X_train, y_train)\n",
    "\n",
    "# Predictions\n",
    "y_pred = clf.predict(X_test)\n",
    "y_proba = clf.predict_proba(X_test)[:, 1]\n",
    "\n",
    "# Predictions\n",
    "y_proba = clf.predict_proba(X_test)[:, 1]\n",
    "precisions, recall, threshold = precision_recall_curve(y_test, y_proba)\n",
    "\n",
    "results[\"R\"] = {\n",
    "    'threshold': threshold,\n",
    "    'recall': recall[:-1],\n",
    "    'y_pred': y_pred\n",
    "}"
   ]
  },
  {
   "cell_type": "markdown",
   "metadata": {},
   "source": [
    "#  Pair features"
   ]
  },
  {
   "cell_type": "markdown",
   "metadata": {},
   "source": [
    "## Create the train test split"
   ]
  },
  {
   "cell_type": "code",
   "execution_count": null,
   "metadata": {},
   "outputs": [],
   "source": [
    "# Drop all columns except for the roles\n",
    "X_train, y_train = train.drop(train.columns.difference(['jaccard','sorensen']), axis=1, inplace=False), train[\"link\"]\n",
    "X_test,  y_test = test.drop(train.columns.difference(['jaccard','sorensen']), axis=1, inplace=False), test[\"link\"]"
   ]
  },
  {
   "cell_type": "code",
   "execution_count": null,
   "metadata": {},
   "outputs": [],
   "source": [
    "clf = RandomForestClassifier()\n",
    "clf.fit(X_train, y_train)\n",
    "\n",
    "# Predictions\n",
    "y_pred = clf.predict(X_test)\n",
    "y_proba = clf.predict_proba(X_test)[:, 1]\n",
    "\n",
    "# Predictions\n",
    "y_proba = clf.predict_proba(X_test)[:, 1]\n",
    "precisions, recall, threshold = precision_recall_curve(y_test, y_proba)\n",
    "\n",
    "results[\"PF\"] = {\n",
    "    'threshold': threshold,\n",
    "    'recall': recall[:-1]\n",
    "}"
   ]
  },
  {
   "cell_type": "markdown",
   "metadata": {},
   "source": [
    "#  Node features "
   ]
  },
  {
   "cell_type": "markdown",
   "metadata": {},
   "source": [
    "## Create the train test split"
   ]
  },
  {
   "cell_type": "code",
   "execution_count": null,
   "metadata": {},
   "outputs": [],
   "source": [
    "# Drop all columns except for the roles\n",
    "X_train, y_train = train.drop(train.columns.difference(['source_pagerank',\n",
    "       'source_indegree', 'source_outdegree', 'source_eigenvector',\n",
    "       'source_avg_path_length', 'destination_pagerank',\n",
    "       'destination_indegree', 'destination_outdegree',\n",
    "       'destination_eigenvector', 'destination_avg_path_length',]), axis=1, inplace=False), train[\"link\"]\n",
    "X_test,  y_test = test.drop(test.columns.difference(['source_pagerank',\n",
    "       'source_indegree', 'source_outdegree', 'source_eigenvector',\n",
    "       'source_avg_path_length', 'destination_pagerank',\n",
    "       'destination_indegree', 'destination_outdegree',\n",
    "       'destination_eigenvector', 'destination_avg_path_length',]), axis=1, inplace=False), test[\"link\"]"
   ]
  },
  {
   "cell_type": "code",
   "execution_count": null,
   "metadata": {},
   "outputs": [],
   "source": [
    "clf = RandomForestClassifier()\n",
    "clf.fit(X_train, y_train)\n",
    "\n",
    "# Predictions\n",
    "y_pred = clf.predict(X_test)\n",
    "y_proba = clf.predict_proba(X_test)[:, 1]\n",
    "\n",
    "# Predictions\n",
    "y_proba = clf.predict_proba(X_test)[:, 1]\n",
    "precisions, recall, threshold = precision_recall_curve(y_test, y_proba)\n",
    "\n",
    "results[\"NF\"] = {\n",
    "    'threshold': threshold,\n",
    "    'recall': recall[:-1]\n",
    "}"
   ]
  },
  {
   "cell_type": "markdown",
   "metadata": {},
   "source": [
    "#  Pair features & roles"
   ]
  },
  {
   "cell_type": "markdown",
   "metadata": {},
   "source": [
    "## Create the train test split"
   ]
  },
  {
   "cell_type": "code",
   "execution_count": null,
   "metadata": {},
   "outputs": [],
   "source": [
    "# Drop all columns except for the roles\n",
    "X_train, y_train = train.drop(train.columns.difference(['jaccard','sorensen', 'source_role_0', 'source_role_1','source_role_2', 'source_role_3', 'source_role_4', 'source_role_5','source_role_6', 'destination_role_0', 'destination_role_1', 'destination_role_2', 'destination_role_3','destination_role_4', 'destination_role_5', 'destination_role_6']), axis=1, inplace=False), train[\"link\"]\n",
    "X_test,  y_test = test.drop(train.columns.difference(['jaccard','sorensen', 'source_role_0', 'source_role_1','source_role_2', 'source_role_3', 'source_role_4', 'source_role_5','source_role_6', 'destination_role_0', 'destination_role_1', 'destination_role_2', 'destination_role_3','destination_role_4', 'destination_role_5', 'destination_role_6']), axis=1, inplace=False), test[\"link\"]"
   ]
  },
  {
   "cell_type": "code",
   "execution_count": null,
   "metadata": {},
   "outputs": [],
   "source": [
    "clf = RandomForestClassifier()\n",
    "clf.fit(X_train, y_train)\n",
    "\n",
    "# Predictions\n",
    "y_pred = clf.predict(X_test)\n",
    "y_proba = clf.predict_proba(X_test)[:, 1]\n",
    "\n",
    "# Predictions\n",
    "y_proba = clf.predict_proba(X_test)[:, 1]\n",
    "precisions, recall, threshold = precision_recall_curve(y_test, y_proba)\n",
    "\n",
    "results[\"PF + R\"] = {\n",
    "    'threshold': threshold,\n",
    "    'recall': recall[:-1]\n",
    "}\n"
   ]
  },
  {
   "cell_type": "markdown",
   "metadata": {},
   "source": [
    "#  Node features & roles"
   ]
  },
  {
   "cell_type": "markdown",
   "metadata": {},
   "source": [
    "## Create the train test split"
   ]
  },
  {
   "cell_type": "code",
   "execution_count": null,
   "metadata": {},
   "outputs": [],
   "source": [
    "X_train, y_train = train.drop(train.columns.difference(['source_pagerank',\n",
    "       'source_indegree', 'source_outdegree', 'source_eigenvector',\n",
    "       'source_avg_path_length', 'destination_pagerank',\n",
    "       'destination_indegree', 'destination_outdegree',\n",
    "       'destination_eigenvector', 'destination_avg_path_length', 'source_role_0', 'source_role_1','source_role_2', 'source_role_3', 'source_role_4', 'source_role_5','source_role_6', 'destination_role_0', 'destination_role_1', 'destination_role_2', 'destination_role_3','destination_role_4', 'destination_role_5', 'destination_role_6']), axis=1, inplace=False), train[\"link\"]\n",
    "X_test,  y_test = test.drop(test.columns.difference(['source_pagerank',\n",
    "       'source_indegree', 'source_outdegree', 'source_eigenvector',\n",
    "       'source_avg_path_length', 'destination_pagerank',\n",
    "       'destination_indegree', 'destination_outdegree',\n",
    "       'destination_eigenvector', 'destination_avg_path_length', 'source_role_0', 'source_role_1','source_role_2', 'source_role_3', 'source_role_4', 'source_role_5','source_role_6', 'destination_role_0', 'destination_role_1', 'destination_role_2', 'destination_role_3','destination_role_4', 'destination_role_5', 'destination_role_6']), axis=1, inplace=False), test[\"link\"]"
   ]
  },
  {
   "cell_type": "code",
   "execution_count": null,
   "metadata": {},
   "outputs": [],
   "source": [
    "clf = RandomForestClassifier()\n",
    "clf.fit(X_train, y_train)\n",
    "\n",
    "# Predictions\n",
    "y_pred = clf.predict(X_test)\n",
    "y_proba = clf.predict_proba(X_test)[:, 1]\n",
    "\n",
    "# Predictions\n",
    "y_proba = clf.predict_proba(X_test)[:, 1]\n",
    "precisions, recall, threshold = precision_recall_curve(y_test, y_proba)\n",
    "\n",
    "results[\"NF + R\"] = {\n",
    "    'threshold': threshold,\n",
    "    'recall': recall[:-1]\n",
    "}"
   ]
  },
  {
   "cell_type": "markdown",
   "metadata": {},
   "source": [
    "# AUC"
   ]
  },
  {
   "cell_type": "code",
   "execution_count": null,
   "metadata": {},
   "outputs": [],
   "source": [
    "# The AUC will be rounded to three decimals\n",
    "for key in results.keys():\n",
    "    results[key][\"area\"] = round(np.trapz(results[key][\"recall\"], results[key][\"threshold\"]),3)"
   ]
  },
  {
   "cell_type": "markdown",
   "metadata": {},
   "source": [
    "# Visualise the results"
   ]
  },
  {
   "cell_type": "code",
   "execution_count": null,
   "metadata": {},
   "outputs": [],
   "source": [
    "fig = go.Figure()\n",
    "\n",
    "fig.add_trace(go.Scatter(x=results[\"R\"][\"threshold\"], y=results[\"R\"][\"recall\"], mode='lines', name=f'Roles - AUC: {results[\"R\"][\"area\"]}', line=dict(color=\"black\")))\n",
    "fig.add_trace(go.Scatter(x=results[\"NF\"][\"threshold\"], y=results[\"NF\"][\"recall\"], mode='lines', name=f'Node features  - AUC: {results[\"NF\"][\"area\"]}', line=dict(color=\"green\")))\n",
    "fig.add_trace(go.Scatter(x=results[\"PF\"][\"threshold\"], y=results[\"PF\"][\"recall\"], mode='lines', name=f'Pair features  - AUC: {results[\"PF\"][\"area\"]}', line=dict(color=\"blue\")))\n",
    "\n",
    "fig.add_trace(go.Scatter(x=results[\"PF + R\"][\"threshold\"], y=results[\"PF + R\"][\"recall\"], mode='lines', name=f'Pair features & roles  - AUC: {results[\"PF + R\"][\"area\"]}', line=dict(color=\"orange\")))\n",
    "fig.add_trace(go.Scatter(x=results[\"NF + R\"][\"threshold\"], y=results[\"NF + R\"][\"recall\"], mode='lines', name=f'Node features & Roles - AUC: {results[\"NF + R\"][\"area\"]}', line=dict(color=\"purple\")))\n",
    "fig.add_trace(go.Scatter(x=results[\"PF & NF\"][\"threshold\"], y=results[\"PF & NF\"][\"recall\"], mode='lines', name=f'Pair features & Node features - AUC: {results[\"PF & NF\"][\"area\"]}', line=dict(color=\"red\")))\n",
    "fig.add_trace(go.Scatter(x=results[\"PF & NF & R\"][\"threshold\"], y=results[\"PF & NF & R\"][\"recall\"], mode='lines', name=f'Pair features & Node features & Roles - AUC: {results[\"PF & NF & R\"][\"area\"]}', line=dict(color=\"pink\")))\n",
    "\n",
    "\n",
    "fig.update_layout(\n",
    "    title='Recall score over recall threshold and AUC',\n",
    "    xaxis_title='Threshold',\n",
    "    width=900,\n",
    "    yaxis_title='Recall',\n",
    "    template='ggplot2',\n",
    "    font_family=\"Times New Roman\",\n",
    "    font_size=12,\n",
    "    legend=dict(orientation=\"h\", y=-0.3))\n",
    "\n",
    "fig.show()"
   ]
  },
  {
   "cell_type": "code",
   "execution_count": null,
   "metadata": {},
   "outputs": [],
   "source": [
    "test[\"y_pred\"] = results[\"R\"][\"y_pred\"]\n",
    "test = test.sort_values(by='timestamp')\n",
    "\n",
    "# Calculating cumulative recall\n",
    "cumulative_true_positives = test['y_pred'].cumsum()\n",
    "total_positives = len(test['y_pred'])\n",
    "# Pandas series / static length\n",
    "cumulative_recall = cumulative_true_positives / total_positives\n",
    "\n",
    "# Creating the recall curve trace\n",
    "trace_recall = go.Scatter(\n",
    "    x=test['timestamp'],\n",
    "    y=cumulative_recall,\n",
    "    mode='lines+markers',\n",
    "    name='Recall',\n",
    "    text=cumulative_recall,\n",
    "    textposition='top center'\n",
    ")\n",
    "\n",
    "fig = go.Figure()\n",
    "fig.add_trace(trace_recall)\n",
    "fig.update_layout(\n",
    "    title='Recall curve - Roles',\n",
    "    xaxis_title='Date',\n",
    "    yaxis_title='Recall',\n",
    "    height=500,\n",
    "    width=800,\n",
    "    font_family=\"Times New Roman\",\n",
    "    font_size=12,\n",
    "    template=\"ggplot2\",\n",
    "    yaxis=dict(range=[0, 1])\n",
    ")\n",
    "\n",
    "fig.show()"
   ]
  }
 ],
 "metadata": {
  "kernelspec": {
   "display_name": "Python 3",
   "language": "python",
   "name": "python3"
  },
  "language_info": {
   "codemirror_mode": {
    "name": "ipython",
    "version": 3
   },
   "file_extension": ".py",
   "mimetype": "text/x-python",
   "name": "python",
   "nbconvert_exporter": "python",
   "pygments_lexer": "ipython3",
   "version": "3.10.13"
  }
 },
 "nbformat": 4,
 "nbformat_minor": 2
}
